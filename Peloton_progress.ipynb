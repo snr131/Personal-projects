{
  "nbformat": 4,
  "nbformat_minor": 0,
  "metadata": {
    "colab": {
      "name": "Peloton_progress.ipynb",
      "provenance": [],
      "collapsed_sections": [],
      "mount_file_id": "1_m15VFVQl4AXKQ0Bw6o1W0I9ysrsknqS",
      "authorship_tag": "ABX9TyMfJHE7F9y0ZBgPRobA8c80",
      "include_colab_link": true
    },
    "kernelspec": {
      "name": "python3",
      "display_name": "Python 3"
    }
  },
  "cells": [
    {
      "cell_type": "markdown",
      "metadata": {
        "id": "view-in-github",
        "colab_type": "text"
      },
      "source": [
        "<a href=\"https://colab.research.google.com/github/snr131/Personal-projects/blob/Peloton-metrics/Peloton_progress.ipynb\" target=\"_parent\"><img src=\"https://colab.research.google.com/assets/colab-badge.svg\" alt=\"Open In Colab\"/></a>"
      ]
    },
    {
      "cell_type": "markdown",
      "metadata": {
        "id": "Ny_q2Q-2TX06"
      },
      "source": [
        "# Has my indoor cycling performance improved over time?\r\n",
        "\r\n",
        "I purchased a Peloton bike during the summer of 2020. Prior to this purchase I wasn't much of an indoor cycling enthusiast. And when I received the bike I found the workouts to be HARD. While I appreciate the leaderboard as a form of motivation, I found that in comparison to others in my age group and who identify as the same gender as me, are much faster! I'm curious, has my performance improved over time?"
      ]
    },
    {
      "cell_type": "code",
      "metadata": {
        "id": "wJzvUiMlTSb3"
      },
      "source": [
        "import pandas as pd\r\n",
        "import matplotlib.pyplot as plt\r\n",
        "import seaborn as sns\r\n",
        "sns.set_theme(style=\"whitegrid\")"
      ],
      "execution_count": 1,
      "outputs": []
    },
    {
      "cell_type": "code",
      "metadata": {
        "id": "fyzb4vMRUiz9"
      },
      "source": [
        "df = pd.read_csv('/content/drive/MyDrive/School/Microcredential/Tableau/snr131_workouts.csv')"
      ],
      "execution_count": 2,
      "outputs": []
    },
    {
      "cell_type": "code",
      "metadata": {
        "colab": {
          "base_uri": "https://localhost:8080/"
        },
        "id": "hZM9V-m6UysE",
        "outputId": "9f84685b-dff8-4ad9-cc2c-96c2acbf5593"
      },
      "source": [
        "df.info()"
      ],
      "execution_count": 3,
      "outputs": [
        {
          "output_type": "stream",
          "text": [
            "<class 'pandas.core.frame.DataFrame'>\n",
            "RangeIndex: 247 entries, 0 to 246\n",
            "Data columns (total 18 columns):\n",
            " #   Column              Non-Null Count  Dtype  \n",
            "---  ------              --------------  -----  \n",
            " 0   Workout Timestamp   247 non-null    object \n",
            " 1   Live/On-Demand      247 non-null    object \n",
            " 2   Instructor Name     246 non-null    object \n",
            " 3   Length (minutes)    247 non-null    int64  \n",
            " 4   Fitness Discipline  247 non-null    object \n",
            " 5   Type                247 non-null    object \n",
            " 6   Title               247 non-null    object \n",
            " 7   Class Timestamp     246 non-null    object \n",
            " 8   Total Output        56 non-null     float64\n",
            " 9   Avg. Watts          49 non-null     float64\n",
            " 10  Avg. Resistance     49 non-null     object \n",
            " 11  Avg. Cadence (RPM)  49 non-null     float64\n",
            " 12  Avg. Speed (mph)    56 non-null     float64\n",
            " 13  Distance (mi)       56 non-null     float64\n",
            " 14  Calories Burned     243 non-null    float64\n",
            " 15  Avg. Heartrate      0 non-null      float64\n",
            " 16  Avg. Incline        0 non-null      float64\n",
            " 17  Avg. Pace (min/mi)  0 non-null      float64\n",
            "dtypes: float64(9), int64(1), object(8)\n",
            "memory usage: 34.9+ KB\n"
          ],
          "name": "stdout"
        }
      ]
    },
    {
      "cell_type": "markdown",
      "metadata": {
        "id": "hvBPZrYVU-1m"
      },
      "source": [
        "Right away I know I want to limit my analysis to on-demand classes. I've attended only two live classes, one of which was at the Peloton studio in 2016. Additionally, I take several on-demand strength/stretch classes per month and I want to exclude those from my analysis."
      ]
    },
    {
      "cell_type": "code",
      "metadata": {
        "colab": {
          "base_uri": "https://localhost:8080/",
          "height": 414
        },
        "id": "2TXAXAt0U14t",
        "outputId": "82046c21-99b1-4cde-8d21-d78731b08a8d"
      },
      "source": [
        "df.head()"
      ],
      "execution_count": 4,
      "outputs": [
        {
          "output_type": "execute_result",
          "data": {
            "text/html": [
              "<div>\n",
              "<style scoped>\n",
              "    .dataframe tbody tr th:only-of-type {\n",
              "        vertical-align: middle;\n",
              "    }\n",
              "\n",
              "    .dataframe tbody tr th {\n",
              "        vertical-align: top;\n",
              "    }\n",
              "\n",
              "    .dataframe thead th {\n",
              "        text-align: right;\n",
              "    }\n",
              "</style>\n",
              "<table border=\"1\" class=\"dataframe\">\n",
              "  <thead>\n",
              "    <tr style=\"text-align: right;\">\n",
              "      <th></th>\n",
              "      <th>Workout Timestamp</th>\n",
              "      <th>Live/On-Demand</th>\n",
              "      <th>Instructor Name</th>\n",
              "      <th>Length (minutes)</th>\n",
              "      <th>Fitness Discipline</th>\n",
              "      <th>Type</th>\n",
              "      <th>Title</th>\n",
              "      <th>Class Timestamp</th>\n",
              "      <th>Total Output</th>\n",
              "      <th>Avg. Watts</th>\n",
              "      <th>Avg. Resistance</th>\n",
              "      <th>Avg. Cadence (RPM)</th>\n",
              "      <th>Avg. Speed (mph)</th>\n",
              "      <th>Distance (mi)</th>\n",
              "      <th>Calories Burned</th>\n",
              "      <th>Avg. Heartrate</th>\n",
              "      <th>Avg. Incline</th>\n",
              "      <th>Avg. Pace (min/mi)</th>\n",
              "    </tr>\n",
              "  </thead>\n",
              "  <tbody>\n",
              "    <tr>\n",
              "      <th>0</th>\n",
              "      <td>2016-05-23 13:30 (UTC)</td>\n",
              "      <td>Live</td>\n",
              "      <td>Alex Toussaint</td>\n",
              "      <td>45</td>\n",
              "      <td>Cycling</td>\n",
              "      <td>Music</td>\n",
              "      <td>45 min Top Hits Ride</td>\n",
              "      <td>2016-05-23 13:15 (UTC)</td>\n",
              "      <td>150.0</td>\n",
              "      <td>56.0</td>\n",
              "      <td>35%</td>\n",
              "      <td>63.0</td>\n",
              "      <td>12.35</td>\n",
              "      <td>9.26</td>\n",
              "      <td>347.0</td>\n",
              "      <td>NaN</td>\n",
              "      <td>NaN</td>\n",
              "      <td>NaN</td>\n",
              "    </tr>\n",
              "    <tr>\n",
              "      <th>1</th>\n",
              "      <td>2020-04-05 16:46 (UTC)</td>\n",
              "      <td>On Demand</td>\n",
              "      <td>Olivia Amato</td>\n",
              "      <td>10</td>\n",
              "      <td>Strength</td>\n",
              "      <td>Bodyweight</td>\n",
              "      <td>10 min Bodyweight Strength</td>\n",
              "      <td>2020-03-10 12:31 (UTC)</td>\n",
              "      <td>NaN</td>\n",
              "      <td>NaN</td>\n",
              "      <td>NaN</td>\n",
              "      <td>NaN</td>\n",
              "      <td>NaN</td>\n",
              "      <td>NaN</td>\n",
              "      <td>7.0</td>\n",
              "      <td>NaN</td>\n",
              "      <td>NaN</td>\n",
              "      <td>NaN</td>\n",
              "    </tr>\n",
              "    <tr>\n",
              "      <th>2</th>\n",
              "      <td>2020-04-11 17:33 (UTC)</td>\n",
              "      <td>On Demand</td>\n",
              "      <td>Becs Gentry</td>\n",
              "      <td>10</td>\n",
              "      <td>Strength</td>\n",
              "      <td>Bodyweight</td>\n",
              "      <td>10 min Bodyweight Strength</td>\n",
              "      <td>2020-03-30 15:17 (UTC)</td>\n",
              "      <td>NaN</td>\n",
              "      <td>NaN</td>\n",
              "      <td>NaN</td>\n",
              "      <td>NaN</td>\n",
              "      <td>NaN</td>\n",
              "      <td>NaN</td>\n",
              "      <td>50.0</td>\n",
              "      <td>NaN</td>\n",
              "      <td>NaN</td>\n",
              "      <td>NaN</td>\n",
              "    </tr>\n",
              "    <tr>\n",
              "      <th>3</th>\n",
              "      <td>2020-04-12 14:42 (UTC)</td>\n",
              "      <td>On Demand</td>\n",
              "      <td>Olivia Amato</td>\n",
              "      <td>10</td>\n",
              "      <td>Strength</td>\n",
              "      <td>Bodyweight</td>\n",
              "      <td>10 min Bodyweight Strength</td>\n",
              "      <td>2020-03-10 12:31 (UTC)</td>\n",
              "      <td>NaN</td>\n",
              "      <td>NaN</td>\n",
              "      <td>NaN</td>\n",
              "      <td>NaN</td>\n",
              "      <td>NaN</td>\n",
              "      <td>NaN</td>\n",
              "      <td>50.0</td>\n",
              "      <td>NaN</td>\n",
              "      <td>NaN</td>\n",
              "      <td>NaN</td>\n",
              "    </tr>\n",
              "    <tr>\n",
              "      <th>4</th>\n",
              "      <td>2020-05-03 15:56 (EST)</td>\n",
              "      <td>On Demand</td>\n",
              "      <td>Andy Speer</td>\n",
              "      <td>30</td>\n",
              "      <td>Strength</td>\n",
              "      <td>Upper Body</td>\n",
              "      <td>30 min Upper Body: Live from Home</td>\n",
              "      <td>2020-05-01 11:25 (EST)</td>\n",
              "      <td>NaN</td>\n",
              "      <td>NaN</td>\n",
              "      <td>NaN</td>\n",
              "      <td>NaN</td>\n",
              "      <td>NaN</td>\n",
              "      <td>NaN</td>\n",
              "      <td>148.0</td>\n",
              "      <td>NaN</td>\n",
              "      <td>NaN</td>\n",
              "      <td>NaN</td>\n",
              "    </tr>\n",
              "  </tbody>\n",
              "</table>\n",
              "</div>"
            ],
            "text/plain": [
              "        Workout Timestamp Live/On-Demand  ... Avg. Incline  Avg. Pace (min/mi)\n",
              "0  2016-05-23 13:30 (UTC)           Live  ...          NaN                 NaN\n",
              "1  2020-04-05 16:46 (UTC)      On Demand  ...          NaN                 NaN\n",
              "2  2020-04-11 17:33 (UTC)      On Demand  ...          NaN                 NaN\n",
              "3  2020-04-12 14:42 (UTC)      On Demand  ...          NaN                 NaN\n",
              "4  2020-05-03 15:56 (EST)      On Demand  ...          NaN                 NaN\n",
              "\n",
              "[5 rows x 18 columns]"
            ]
          },
          "metadata": {
            "tags": []
          },
          "execution_count": 4
        }
      ]
    },
    {
      "cell_type": "code",
      "metadata": {
        "colab": {
          "base_uri": "https://localhost:8080/"
        },
        "id": "AhBiiZw22eeN",
        "outputId": "e1d78f88-55dd-46ca-fa9b-eb90423d8373"
      },
      "source": [
        "df['Fitness Discipline'].value_counts()"
      ],
      "execution_count": 5,
      "outputs": [
        {
          "output_type": "execute_result",
          "data": {
            "text/plain": [
              "Strength         164\n",
              "Cycling           49\n",
              "Stretching        17\n",
              "Cardio             9\n",
              "Bike Bootcamp      7\n",
              "Yoga               1\n",
              "Name: Fitness Discipline, dtype: int64"
            ]
          },
          "metadata": {
            "tags": []
          },
          "execution_count": 5
        }
      ]
    },
    {
      "cell_type": "code",
      "metadata": {
        "colab": {
          "base_uri": "https://localhost:8080/"
        },
        "id": "vvF5B28D3DA0",
        "outputId": "76a121f5-5c6c-497a-8362-ec24841e9d45"
      },
      "source": [
        "df.groupby(by=['Live/On-Demand'])['Fitness Discipline'].value_counts()"
      ],
      "execution_count": 6,
      "outputs": [
        {
          "output_type": "execute_result",
          "data": {
            "text/plain": [
              "Live/On-Demand  Fitness Discipline\n",
              "Live            Cycling                 2\n",
              "On Demand       Strength              164\n",
              "                Cycling                47\n",
              "                Stretching             17\n",
              "                Cardio                  9\n",
              "                Bike Bootcamp           7\n",
              "                Yoga                    1\n",
              "Name: Fitness Discipline, dtype: int64"
            ]
          },
          "metadata": {
            "tags": []
          },
          "execution_count": 6
        }
      ]
    },
    {
      "cell_type": "code",
      "metadata": {
        "id": "t7H2GAOLVeq7"
      },
      "source": [
        "on_demand_cycling = df.loc[(df['Live/On-Demand']=='On Demand') & (df['Fitness Discipline']=='Cycling')]"
      ],
      "execution_count": 7,
      "outputs": []
    },
    {
      "cell_type": "code",
      "metadata": {
        "colab": {
          "base_uri": "https://localhost:8080/",
          "height": 430
        },
        "id": "jtd9GbDRV4wO",
        "outputId": "285c475b-66a4-473a-f30d-9fe038d95937"
      },
      "source": [
        "on_demand_cycling.head()"
      ],
      "execution_count": 8,
      "outputs": [
        {
          "output_type": "execute_result",
          "data": {
            "text/html": [
              "<div>\n",
              "<style scoped>\n",
              "    .dataframe tbody tr th:only-of-type {\n",
              "        vertical-align: middle;\n",
              "    }\n",
              "\n",
              "    .dataframe tbody tr th {\n",
              "        vertical-align: top;\n",
              "    }\n",
              "\n",
              "    .dataframe thead th {\n",
              "        text-align: right;\n",
              "    }\n",
              "</style>\n",
              "<table border=\"1\" class=\"dataframe\">\n",
              "  <thead>\n",
              "    <tr style=\"text-align: right;\">\n",
              "      <th></th>\n",
              "      <th>Workout Timestamp</th>\n",
              "      <th>Live/On-Demand</th>\n",
              "      <th>Instructor Name</th>\n",
              "      <th>Length (minutes)</th>\n",
              "      <th>Fitness Discipline</th>\n",
              "      <th>Type</th>\n",
              "      <th>Title</th>\n",
              "      <th>Class Timestamp</th>\n",
              "      <th>Total Output</th>\n",
              "      <th>Avg. Watts</th>\n",
              "      <th>Avg. Resistance</th>\n",
              "      <th>Avg. Cadence (RPM)</th>\n",
              "      <th>Avg. Speed (mph)</th>\n",
              "      <th>Distance (mi)</th>\n",
              "      <th>Calories Burned</th>\n",
              "      <th>Avg. Heartrate</th>\n",
              "      <th>Avg. Incline</th>\n",
              "      <th>Avg. Pace (min/mi)</th>\n",
              "    </tr>\n",
              "  </thead>\n",
              "  <tbody>\n",
              "    <tr>\n",
              "      <th>49</th>\n",
              "      <td>2020-09-16 20:20 (EST)</td>\n",
              "      <td>On Demand</td>\n",
              "      <td>Alex Toussaint</td>\n",
              "      <td>20</td>\n",
              "      <td>Cycling</td>\n",
              "      <td>Music</td>\n",
              "      <td>20 min Hip Hop Ride</td>\n",
              "      <td>2020-06-06 16:00 (EST)</td>\n",
              "      <td>77.0</td>\n",
              "      <td>64.0</td>\n",
              "      <td>33%</td>\n",
              "      <td>77.0</td>\n",
              "      <td>13.39</td>\n",
              "      <td>4.46</td>\n",
              "      <td>106.0</td>\n",
              "      <td>NaN</td>\n",
              "      <td>NaN</td>\n",
              "      <td>NaN</td>\n",
              "    </tr>\n",
              "    <tr>\n",
              "      <th>50</th>\n",
              "      <td>2020-09-17 05:37 (EST)</td>\n",
              "      <td>On Demand</td>\n",
              "      <td>Alex Toussaint</td>\n",
              "      <td>30</td>\n",
              "      <td>Cycling</td>\n",
              "      <td>Music</td>\n",
              "      <td>30 min Hip Hop Ride</td>\n",
              "      <td>2020-08-31 19:21 (EST)</td>\n",
              "      <td>100.0</td>\n",
              "      <td>56.0</td>\n",
              "      <td>32%</td>\n",
              "      <td>75.0</td>\n",
              "      <td>12.45</td>\n",
              "      <td>6.23</td>\n",
              "      <td>138.0</td>\n",
              "      <td>NaN</td>\n",
              "      <td>NaN</td>\n",
              "      <td>NaN</td>\n",
              "    </tr>\n",
              "    <tr>\n",
              "      <th>51</th>\n",
              "      <td>2020-09-18 05:21 (EST)</td>\n",
              "      <td>On Demand</td>\n",
              "      <td>Alex Toussaint</td>\n",
              "      <td>30</td>\n",
              "      <td>Cycling</td>\n",
              "      <td>Theme</td>\n",
              "      <td>30 min Club Bangers Ride</td>\n",
              "      <td>2020-08-25 11:17 (EST)</td>\n",
              "      <td>130.0</td>\n",
              "      <td>73.0</td>\n",
              "      <td>37%</td>\n",
              "      <td>71.0</td>\n",
              "      <td>13.88</td>\n",
              "      <td>6.94</td>\n",
              "      <td>180.0</td>\n",
              "      <td>NaN</td>\n",
              "      <td>NaN</td>\n",
              "      <td>NaN</td>\n",
              "    </tr>\n",
              "    <tr>\n",
              "      <th>53</th>\n",
              "      <td>2020-09-24 13:09 (EST)</td>\n",
              "      <td>On Demand</td>\n",
              "      <td>Alex Toussaint</td>\n",
              "      <td>20</td>\n",
              "      <td>Cycling</td>\n",
              "      <td>Low Impact</td>\n",
              "      <td>20 min Low Impact Ride</td>\n",
              "      <td>2020-07-27 18:45 (EST)</td>\n",
              "      <td>81.0</td>\n",
              "      <td>67.0</td>\n",
              "      <td>31%</td>\n",
              "      <td>85.0</td>\n",
              "      <td>13.61</td>\n",
              "      <td>4.54</td>\n",
              "      <td>111.0</td>\n",
              "      <td>NaN</td>\n",
              "      <td>NaN</td>\n",
              "      <td>NaN</td>\n",
              "    </tr>\n",
              "    <tr>\n",
              "      <th>54</th>\n",
              "      <td>2020-09-26 12:55 (EST)</td>\n",
              "      <td>On Demand</td>\n",
              "      <td>Tunde Oyeneyin</td>\n",
              "      <td>20</td>\n",
              "      <td>Cycling</td>\n",
              "      <td>Music</td>\n",
              "      <td>20 min Hip Hop Ride</td>\n",
              "      <td>2020-09-24 17:00 (EST)</td>\n",
              "      <td>89.0</td>\n",
              "      <td>74.0</td>\n",
              "      <td>34%</td>\n",
              "      <td>82.0</td>\n",
              "      <td>14.11</td>\n",
              "      <td>4.70</td>\n",
              "      <td>123.0</td>\n",
              "      <td>NaN</td>\n",
              "      <td>NaN</td>\n",
              "      <td>NaN</td>\n",
              "    </tr>\n",
              "  </tbody>\n",
              "</table>\n",
              "</div>"
            ],
            "text/plain": [
              "         Workout Timestamp Live/On-Demand  ... Avg. Incline  Avg. Pace (min/mi)\n",
              "49  2020-09-16 20:20 (EST)      On Demand  ...          NaN                 NaN\n",
              "50  2020-09-17 05:37 (EST)      On Demand  ...          NaN                 NaN\n",
              "51  2020-09-18 05:21 (EST)      On Demand  ...          NaN                 NaN\n",
              "53  2020-09-24 13:09 (EST)      On Demand  ...          NaN                 NaN\n",
              "54  2020-09-26 12:55 (EST)      On Demand  ...          NaN                 NaN\n",
              "\n",
              "[5 rows x 18 columns]"
            ]
          },
          "metadata": {
            "tags": []
          },
          "execution_count": 8
        }
      ]
    },
    {
      "cell_type": "markdown",
      "metadata": {
        "id": "VTSkNykA5PPA"
      },
      "source": [
        "Because I am taking these classes on demand, the workout timestamp is significant, whereas the class timestamp is not. Because I have not imput my height, weight, heartrate, etc, the calories burned is not an accurate calculation. Finally, the average incline and pace are treadmill metrics. Thus, all of these columns can be dropped."
      ]
    },
    {
      "cell_type": "code",
      "metadata": {
        "colab": {
          "base_uri": "https://localhost:8080/"
        },
        "id": "yx9DDP7k5OGv",
        "outputId": "2fc917a9-11b9-436f-a18a-54a7bcf3ca44"
      },
      "source": [
        "on_demand_cycling.drop(['Class Timestamp', 'Calories Burned', 'Avg. Heartrate', 'Avg. Incline', 'Avg. Pace (min/mi)'], axis = 1, inplace=True) "
      ],
      "execution_count": 9,
      "outputs": [
        {
          "output_type": "stream",
          "text": [
            "/usr/local/lib/python3.6/dist-packages/pandas/core/frame.py:4174: SettingWithCopyWarning: \n",
            "A value is trying to be set on a copy of a slice from a DataFrame\n",
            "\n",
            "See the caveats in the documentation: https://pandas.pydata.org/pandas-docs/stable/user_guide/indexing.html#returning-a-view-versus-a-copy\n",
            "  errors=errors,\n"
          ],
          "name": "stderr"
        }
      ]
    },
    {
      "cell_type": "code",
      "metadata": {
        "colab": {
          "base_uri": "https://localhost:8080/"
        },
        "id": "Ykjt7QtY6lpJ",
        "outputId": "12644ccc-9827-4684-976e-74c6b01c0087"
      },
      "source": [
        "on_demand_cycling.info()"
      ],
      "execution_count": 10,
      "outputs": [
        {
          "output_type": "stream",
          "text": [
            "<class 'pandas.core.frame.DataFrame'>\n",
            "Int64Index: 47 entries, 49 to 245\n",
            "Data columns (total 13 columns):\n",
            " #   Column              Non-Null Count  Dtype  \n",
            "---  ------              --------------  -----  \n",
            " 0   Workout Timestamp   47 non-null     object \n",
            " 1   Live/On-Demand      47 non-null     object \n",
            " 2   Instructor Name     46 non-null     object \n",
            " 3   Length (minutes)    47 non-null     int64  \n",
            " 4   Fitness Discipline  47 non-null     object \n",
            " 5   Type                47 non-null     object \n",
            " 6   Title               47 non-null     object \n",
            " 7   Total Output        47 non-null     float64\n",
            " 8   Avg. Watts          47 non-null     float64\n",
            " 9   Avg. Resistance     47 non-null     object \n",
            " 10  Avg. Cadence (RPM)  47 non-null     float64\n",
            " 11  Avg. Speed (mph)    47 non-null     float64\n",
            " 12  Distance (mi)       47 non-null     float64\n",
            "dtypes: float64(5), int64(1), object(7)\n",
            "memory usage: 5.1+ KB\n"
          ],
          "name": "stdout"
        }
      ]
    },
    {
      "cell_type": "code",
      "metadata": {
        "colab": {
          "base_uri": "https://localhost:8080/"
        },
        "id": "iibVjgwkAx6G",
        "outputId": "2266e68b-86d1-4e39-ddaa-d033606db113"
      },
      "source": [
        "type(on_demand_cycling['Workout Timestamp'].iloc[0])"
      ],
      "execution_count": 11,
      "outputs": [
        {
          "output_type": "execute_result",
          "data": {
            "text/plain": [
              "str"
            ]
          },
          "metadata": {
            "tags": []
          },
          "execution_count": 11
        }
      ]
    },
    {
      "cell_type": "markdown",
      "metadata": {
        "id": "_XK9cukUIPQr"
      },
      "source": [
        "The workout timestamp is currently a string, and contains information like EST that will prevent conversion to a pandas datetime format without first stripping the unnecessary portions of that string."
      ]
    },
    {
      "cell_type": "code",
      "metadata": {
        "colab": {
          "base_uri": "https://localhost:8080/"
        },
        "id": "MGo1aXSPA4-r",
        "outputId": "18476b26-5f5d-46e3-b766-61cbce6680e6"
      },
      "source": [
        "on_demand_cycling['Workout Timestamp'] = on_demand_cycling['Workout Timestamp'].map(lambda x: x.rstrip('(EST)'))"
      ],
      "execution_count": 12,
      "outputs": [
        {
          "output_type": "stream",
          "text": [
            "/usr/local/lib/python3.6/dist-packages/ipykernel_launcher.py:1: SettingWithCopyWarning: \n",
            "A value is trying to be set on a copy of a slice from a DataFrame.\n",
            "Try using .loc[row_indexer,col_indexer] = value instead\n",
            "\n",
            "See the caveats in the documentation: https://pandas.pydata.org/pandas-docs/stable/user_guide/indexing.html#returning-a-view-versus-a-copy\n",
            "  \"\"\"Entry point for launching an IPython kernel.\n"
          ],
          "name": "stderr"
        }
      ]
    },
    {
      "cell_type": "code",
      "metadata": {
        "colab": {
          "base_uri": "https://localhost:8080/"
        },
        "id": "NU9EOTvDCkQj",
        "outputId": "f4c8f830-b10f-4c8f-92ff-405a3bea7650"
      },
      "source": [
        "on_demand_cycling['Workout Timestamp'] = on_demand_cycling['Workout Timestamp'].map(lambda x: x.rstrip('(UST)'))"
      ],
      "execution_count": 13,
      "outputs": [
        {
          "output_type": "stream",
          "text": [
            "/usr/local/lib/python3.6/dist-packages/ipykernel_launcher.py:1: SettingWithCopyWarning: \n",
            "A value is trying to be set on a copy of a slice from a DataFrame.\n",
            "Try using .loc[row_indexer,col_indexer] = value instead\n",
            "\n",
            "See the caveats in the documentation: https://pandas.pydata.org/pandas-docs/stable/user_guide/indexing.html#returning-a-view-versus-a-copy\n",
            "  \"\"\"Entry point for launching an IPython kernel.\n"
          ],
          "name": "stderr"
        }
      ]
    },
    {
      "cell_type": "code",
      "metadata": {
        "colab": {
          "base_uri": "https://localhost:8080/"
        },
        "id": "VBlC65GTFZ0E",
        "outputId": "baa8eecc-9a4c-441f-b598-a5e0f0c9ed7f"
      },
      "source": [
        "on_demand_cycling['Workout Timestamp'] = on_demand_cycling['Workout Timestamp'].map(lambda x: x.rstrip('(-05'))"
      ],
      "execution_count": 14,
      "outputs": [
        {
          "output_type": "stream",
          "text": [
            "/usr/local/lib/python3.6/dist-packages/ipykernel_launcher.py:1: SettingWithCopyWarning: \n",
            "A value is trying to be set on a copy of a slice from a DataFrame.\n",
            "Try using .loc[row_indexer,col_indexer] = value instead\n",
            "\n",
            "See the caveats in the documentation: https://pandas.pydata.org/pandas-docs/stable/user_guide/indexing.html#returning-a-view-versus-a-copy\n",
            "  \"\"\"Entry point for launching an IPython kernel.\n"
          ],
          "name": "stderr"
        }
      ]
    },
    {
      "cell_type": "code",
      "metadata": {
        "colab": {
          "base_uri": "https://localhost:8080/",
          "height": 296
        },
        "id": "vfBSjyyMCcZM",
        "outputId": "bcf70a90-2b5d-4e82-fbba-2beb3f4c0b78"
      },
      "source": [
        "on_demand_cycling.head()"
      ],
      "execution_count": 15,
      "outputs": [
        {
          "output_type": "execute_result",
          "data": {
            "text/html": [
              "<div>\n",
              "<style scoped>\n",
              "    .dataframe tbody tr th:only-of-type {\n",
              "        vertical-align: middle;\n",
              "    }\n",
              "\n",
              "    .dataframe tbody tr th {\n",
              "        vertical-align: top;\n",
              "    }\n",
              "\n",
              "    .dataframe thead th {\n",
              "        text-align: right;\n",
              "    }\n",
              "</style>\n",
              "<table border=\"1\" class=\"dataframe\">\n",
              "  <thead>\n",
              "    <tr style=\"text-align: right;\">\n",
              "      <th></th>\n",
              "      <th>Workout Timestamp</th>\n",
              "      <th>Live/On-Demand</th>\n",
              "      <th>Instructor Name</th>\n",
              "      <th>Length (minutes)</th>\n",
              "      <th>Fitness Discipline</th>\n",
              "      <th>Type</th>\n",
              "      <th>Title</th>\n",
              "      <th>Total Output</th>\n",
              "      <th>Avg. Watts</th>\n",
              "      <th>Avg. Resistance</th>\n",
              "      <th>Avg. Cadence (RPM)</th>\n",
              "      <th>Avg. Speed (mph)</th>\n",
              "      <th>Distance (mi)</th>\n",
              "    </tr>\n",
              "  </thead>\n",
              "  <tbody>\n",
              "    <tr>\n",
              "      <th>49</th>\n",
              "      <td>2020-09-16 20:20</td>\n",
              "      <td>On Demand</td>\n",
              "      <td>Alex Toussaint</td>\n",
              "      <td>20</td>\n",
              "      <td>Cycling</td>\n",
              "      <td>Music</td>\n",
              "      <td>20 min Hip Hop Ride</td>\n",
              "      <td>77.0</td>\n",
              "      <td>64.0</td>\n",
              "      <td>33%</td>\n",
              "      <td>77.0</td>\n",
              "      <td>13.39</td>\n",
              "      <td>4.46</td>\n",
              "    </tr>\n",
              "    <tr>\n",
              "      <th>50</th>\n",
              "      <td>2020-09-17 05:37</td>\n",
              "      <td>On Demand</td>\n",
              "      <td>Alex Toussaint</td>\n",
              "      <td>30</td>\n",
              "      <td>Cycling</td>\n",
              "      <td>Music</td>\n",
              "      <td>30 min Hip Hop Ride</td>\n",
              "      <td>100.0</td>\n",
              "      <td>56.0</td>\n",
              "      <td>32%</td>\n",
              "      <td>75.0</td>\n",
              "      <td>12.45</td>\n",
              "      <td>6.23</td>\n",
              "    </tr>\n",
              "    <tr>\n",
              "      <th>51</th>\n",
              "      <td>2020-09-18 05:21</td>\n",
              "      <td>On Demand</td>\n",
              "      <td>Alex Toussaint</td>\n",
              "      <td>30</td>\n",
              "      <td>Cycling</td>\n",
              "      <td>Theme</td>\n",
              "      <td>30 min Club Bangers Ride</td>\n",
              "      <td>130.0</td>\n",
              "      <td>73.0</td>\n",
              "      <td>37%</td>\n",
              "      <td>71.0</td>\n",
              "      <td>13.88</td>\n",
              "      <td>6.94</td>\n",
              "    </tr>\n",
              "    <tr>\n",
              "      <th>53</th>\n",
              "      <td>2020-09-24 13:09</td>\n",
              "      <td>On Demand</td>\n",
              "      <td>Alex Toussaint</td>\n",
              "      <td>20</td>\n",
              "      <td>Cycling</td>\n",
              "      <td>Low Impact</td>\n",
              "      <td>20 min Low Impact Ride</td>\n",
              "      <td>81.0</td>\n",
              "      <td>67.0</td>\n",
              "      <td>31%</td>\n",
              "      <td>85.0</td>\n",
              "      <td>13.61</td>\n",
              "      <td>4.54</td>\n",
              "    </tr>\n",
              "    <tr>\n",
              "      <th>54</th>\n",
              "      <td>2020-09-26 12:55</td>\n",
              "      <td>On Demand</td>\n",
              "      <td>Tunde Oyeneyin</td>\n",
              "      <td>20</td>\n",
              "      <td>Cycling</td>\n",
              "      <td>Music</td>\n",
              "      <td>20 min Hip Hop Ride</td>\n",
              "      <td>89.0</td>\n",
              "      <td>74.0</td>\n",
              "      <td>34%</td>\n",
              "      <td>82.0</td>\n",
              "      <td>14.11</td>\n",
              "      <td>4.70</td>\n",
              "    </tr>\n",
              "  </tbody>\n",
              "</table>\n",
              "</div>"
            ],
            "text/plain": [
              "    Workout Timestamp Live/On-Demand  ... Avg. Speed (mph)  Distance (mi)\n",
              "49  2020-09-16 20:20       On Demand  ...            13.39           4.46\n",
              "50  2020-09-17 05:37       On Demand  ...            12.45           6.23\n",
              "51  2020-09-18 05:21       On Demand  ...            13.88           6.94\n",
              "53  2020-09-24 13:09       On Demand  ...            13.61           4.54\n",
              "54  2020-09-26 12:55       On Demand  ...            14.11           4.70\n",
              "\n",
              "[5 rows x 13 columns]"
            ]
          },
          "metadata": {
            "tags": []
          },
          "execution_count": 15
        }
      ]
    },
    {
      "cell_type": "markdown",
      "metadata": {
        "id": "UD4OeVZvlyV7"
      },
      "source": [
        "To start, I'll use average watts as a measurement of my overall performance. Watts are calculated using cadence and resistance as inputs. Total output (calculated using watts) will increase as class length increases, and because I'd like to consider how my average watts fluctuate in classes of various lengths, I won't consider total output for now."
      ]
    },
    {
      "cell_type": "code",
      "metadata": {
        "colab": {
          "base_uri": "https://localhost:8080/",
          "height": 459
        },
        "id": "fYeG2p7nJV54",
        "outputId": "302aee62-7853-4523-ef73-412203e14dc7"
      },
      "source": [
        "sns.set_theme(style=\"whitegrid\")\r\n",
        "plt.figure(figsize = (12, 5))\r\n",
        "sns.lineplot(data = on_demand_cycling.reset_index(), x = 'Workout Timestamp', y = 'Avg. Watts' ).set_title('Average Watts Over Time')\r\n",
        "plt.xticks(rotation=90)"
      ],
      "execution_count": 24,
      "outputs": [
        {
          "output_type": "execute_result",
          "data": {
            "text/plain": [
              "(array([737690., 737699., 737720., 737730., 737751., 737760., 737781.,\n",
              "        737791., 737812., 737822.]),\n",
              " <a list of 10 Text major ticklabel objects>)"
            ]
          },
          "metadata": {
            "tags": []
          },
          "execution_count": 24
        },
        {
          "output_type": "display_data",
          "data": {
            "image/png": "[encoded data removed]",
            "text/plain": [
              "<Figure size 864x360 with 1 Axes>"
            ]
          },
          "metadata": {
            "tags": []
          }
        }
      ]
    },
    {
      "cell_type": "markdown",
      "metadata": {
        "id": "Q0LxSFyrmwP8"
      },
      "source": [
        "My average watts does seem to be improving over time! How does day of the week and hour of the day impact my performance?"
      ]
    },
    {
      "cell_type": "code",
      "metadata": {
        "colab": {
          "base_uri": "https://localhost:8080/"
        },
        "id": "biSFsDwjFCuC",
        "outputId": "1f26606c-836c-4d7e-a863-c3dd1536a1fb"
      },
      "source": [
        "on_demand_cycling['Workout Timestamp'] = pd.to_datetime(on_demand_cycling['Workout Timestamp'])"
      ],
      "execution_count": 16,
      "outputs": [
        {
          "output_type": "stream",
          "text": [
            "/usr/local/lib/python3.6/dist-packages/ipykernel_launcher.py:1: SettingWithCopyWarning: \n",
            "A value is trying to be set on a copy of a slice from a DataFrame.\n",
            "Try using .loc[row_indexer,col_indexer] = value instead\n",
            "\n",
            "See the caveats in the documentation: https://pandas.pydata.org/pandas-docs/stable/user_guide/indexing.html#returning-a-view-versus-a-copy\n",
            "  \"\"\"Entry point for launching an IPython kernel.\n"
          ],
          "name": "stderr"
        }
      ]
    },
    {
      "cell_type": "markdown",
      "metadata": {
        "id": "aHMOB5rpIsjv"
      },
      "source": [
        "I'd like to consider how the hour of the day and the day of the week impact my performance."
      ]
    },
    {
      "cell_type": "code",
      "metadata": {
        "colab": {
          "base_uri": "https://localhost:8080/"
        },
        "id": "TDt8JZifAB7L",
        "outputId": "dcd28427-d7d6-435e-d1ec-27bf7961eda5"
      },
      "source": [
        "on_demand_cycling['Hour'] = on_demand_cycling['Workout Timestamp'].apply(lambda time: time.hour)\r\n",
        "on_demand_cycling['Day of Week'] = on_demand_cycling['Workout Timestamp'].apply(lambda time: time.dayofweek)\r\n",
        "on_demand_cycling['Month'] = on_demand_cycling['Workout Timestamp'].apply(lambda time: time.month)\r\n",
        "on_demand_cycling['Year'] = on_demand_cycling['Workout Timestamp'].apply(lambda time: time.year)"
      ],
      "execution_count": 17,
      "outputs": [
        {
          "output_type": "stream",
          "text": [
            "/usr/local/lib/python3.6/dist-packages/ipykernel_launcher.py:1: SettingWithCopyWarning: \n",
            "A value is trying to be set on a copy of a slice from a DataFrame.\n",
            "Try using .loc[row_indexer,col_indexer] = value instead\n",
            "\n",
            "See the caveats in the documentation: https://pandas.pydata.org/pandas-docs/stable/user_guide/indexing.html#returning-a-view-versus-a-copy\n",
            "  \"\"\"Entry point for launching an IPython kernel.\n",
            "/usr/local/lib/python3.6/dist-packages/ipykernel_launcher.py:2: SettingWithCopyWarning: \n",
            "A value is trying to be set on a copy of a slice from a DataFrame.\n",
            "Try using .loc[row_indexer,col_indexer] = value instead\n",
            "\n",
            "See the caveats in the documentation: https://pandas.pydata.org/pandas-docs/stable/user_guide/indexing.html#returning-a-view-versus-a-copy\n",
            "  \n",
            "/usr/local/lib/python3.6/dist-packages/ipykernel_launcher.py:3: SettingWithCopyWarning: \n",
            "A value is trying to be set on a copy of a slice from a DataFrame.\n",
            "Try using .loc[row_indexer,col_indexer] = value instead\n",
            "\n",
            "See the caveats in the documentation: https://pandas.pydata.org/pandas-docs/stable/user_guide/indexing.html#returning-a-view-versus-a-copy\n",
            "  This is separate from the ipykernel package so we can avoid doing imports until\n",
            "/usr/local/lib/python3.6/dist-packages/ipykernel_launcher.py:4: SettingWithCopyWarning: \n",
            "A value is trying to be set on a copy of a slice from a DataFrame.\n",
            "Try using .loc[row_indexer,col_indexer] = value instead\n",
            "\n",
            "See the caveats in the documentation: https://pandas.pydata.org/pandas-docs/stable/user_guide/indexing.html#returning-a-view-versus-a-copy\n",
            "  after removing the cwd from sys.path.\n"
          ],
          "name": "stderr"
        }
      ]
    },
    {
      "cell_type": "code",
      "metadata": {
        "colab": {
          "base_uri": "https://localhost:8080/",
          "height": 313
        },
        "id": "l9-1am7AHZMF",
        "outputId": "71c93dfb-d820-4767-cdff-5e60d2387bf2"
      },
      "source": [
        "on_demand_cycling.head()"
      ],
      "execution_count": 18,
      "outputs": [
        {
          "output_type": "execute_result",
          "data": {
            "text/html": [
              "<div>\n",
              "<style scoped>\n",
              "    .dataframe tbody tr th:only-of-type {\n",
              "        vertical-align: middle;\n",
              "    }\n",
              "\n",
              "    .dataframe tbody tr th {\n",
              "        vertical-align: top;\n",
              "    }\n",
              "\n",
              "    .dataframe thead th {\n",
              "        text-align: right;\n",
              "    }\n",
              "</style>\n",
              "<table border=\"1\" class=\"dataframe\">\n",
              "  <thead>\n",
              "    <tr style=\"text-align: right;\">\n",
              "      <th></th>\n",
              "      <th>Workout Timestamp</th>\n",
              "      <th>Live/On-Demand</th>\n",
              "      <th>Instructor Name</th>\n",
              "      <th>Length (minutes)</th>\n",
              "      <th>Fitness Discipline</th>\n",
              "      <th>Type</th>\n",
              "      <th>Title</th>\n",
              "      <th>Total Output</th>\n",
              "      <th>Avg. Watts</th>\n",
              "      <th>Avg. Resistance</th>\n",
              "      <th>Avg. Cadence (RPM)</th>\n",
              "      <th>Avg. Speed (mph)</th>\n",
              "      <th>Distance (mi)</th>\n",
              "      <th>Hour</th>\n",
              "      <th>Day of Week</th>\n",
              "      <th>Month</th>\n",
              "      <th>Year</th>\n",
              "    </tr>\n",
              "  </thead>\n",
              "  <tbody>\n",
              "    <tr>\n",
              "      <th>49</th>\n",
              "      <td>2020-09-16 20:20:00</td>\n",
              "      <td>On Demand</td>\n",
              "      <td>Alex Toussaint</td>\n",
              "      <td>20</td>\n",
              "      <td>Cycling</td>\n",
              "      <td>Music</td>\n",
              "      <td>20 min Hip Hop Ride</td>\n",
              "      <td>77.0</td>\n",
              "      <td>64.0</td>\n",
              "      <td>33%</td>\n",
              "      <td>77.0</td>\n",
              "      <td>13.39</td>\n",
              "      <td>4.46</td>\n",
              "      <td>20</td>\n",
              "      <td>2</td>\n",
              "      <td>9</td>\n",
              "      <td>2020</td>\n",
              "    </tr>\n",
              "    <tr>\n",
              "      <th>50</th>\n",
              "      <td>2020-09-17 05:37:00</td>\n",
              "      <td>On Demand</td>\n",
              "      <td>Alex Toussaint</td>\n",
              "      <td>30</td>\n",
              "      <td>Cycling</td>\n",
              "      <td>Music</td>\n",
              "      <td>30 min Hip Hop Ride</td>\n",
              "      <td>100.0</td>\n",
              "      <td>56.0</td>\n",
              "      <td>32%</td>\n",
              "      <td>75.0</td>\n",
              "      <td>12.45</td>\n",
              "      <td>6.23</td>\n",
              "      <td>5</td>\n",
              "      <td>3</td>\n",
              "      <td>9</td>\n",
              "      <td>2020</td>\n",
              "    </tr>\n",
              "    <tr>\n",
              "      <th>51</th>\n",
              "      <td>2020-09-18 05:21:00</td>\n",
              "      <td>On Demand</td>\n",
              "      <td>Alex Toussaint</td>\n",
              "      <td>30</td>\n",
              "      <td>Cycling</td>\n",
              "      <td>Theme</td>\n",
              "      <td>30 min Club Bangers Ride</td>\n",
              "      <td>130.0</td>\n",
              "      <td>73.0</td>\n",
              "      <td>37%</td>\n",
              "      <td>71.0</td>\n",
              "      <td>13.88</td>\n",
              "      <td>6.94</td>\n",
              "      <td>5</td>\n",
              "      <td>4</td>\n",
              "      <td>9</td>\n",
              "      <td>2020</td>\n",
              "    </tr>\n",
              "    <tr>\n",
              "      <th>53</th>\n",
              "      <td>2020-09-24 13:09:00</td>\n",
              "      <td>On Demand</td>\n",
              "      <td>Alex Toussaint</td>\n",
              "      <td>20</td>\n",
              "      <td>Cycling</td>\n",
              "      <td>Low Impact</td>\n",
              "      <td>20 min Low Impact Ride</td>\n",
              "      <td>81.0</td>\n",
              "      <td>67.0</td>\n",
              "      <td>31%</td>\n",
              "      <td>85.0</td>\n",
              "      <td>13.61</td>\n",
              "      <td>4.54</td>\n",
              "      <td>13</td>\n",
              "      <td>3</td>\n",
              "      <td>9</td>\n",
              "      <td>2020</td>\n",
              "    </tr>\n",
              "    <tr>\n",
              "      <th>54</th>\n",
              "      <td>2020-09-26 12:55:00</td>\n",
              "      <td>On Demand</td>\n",
              "      <td>Tunde Oyeneyin</td>\n",
              "      <td>20</td>\n",
              "      <td>Cycling</td>\n",
              "      <td>Music</td>\n",
              "      <td>20 min Hip Hop Ride</td>\n",
              "      <td>89.0</td>\n",
              "      <td>74.0</td>\n",
              "      <td>34%</td>\n",
              "      <td>82.0</td>\n",
              "      <td>14.11</td>\n",
              "      <td>4.70</td>\n",
              "      <td>12</td>\n",
              "      <td>5</td>\n",
              "      <td>9</td>\n",
              "      <td>2020</td>\n",
              "    </tr>\n",
              "  </tbody>\n",
              "</table>\n",
              "</div>"
            ],
            "text/plain": [
              "     Workout Timestamp Live/On-Demand Instructor Name  ...  Day of Week Month  Year\n",
              "49 2020-09-16 20:20:00      On Demand  Alex Toussaint  ...            2     9  2020\n",
              "50 2020-09-17 05:37:00      On Demand  Alex Toussaint  ...            3     9  2020\n",
              "51 2020-09-18 05:21:00      On Demand  Alex Toussaint  ...            4     9  2020\n",
              "53 2020-09-24 13:09:00      On Demand  Alex Toussaint  ...            3     9  2020\n",
              "54 2020-09-26 12:55:00      On Demand  Tunde Oyeneyin  ...            5     9  2020\n",
              "\n",
              "[5 rows x 17 columns]"
            ]
          },
          "metadata": {
            "tags": []
          },
          "execution_count": 18
        }
      ]
    },
    {
      "cell_type": "code",
      "metadata": {
        "id": "3VIyM0_THfhi"
      },
      "source": [
        "dmap = {0:'Mon',1:'Tue',2:'Wed',3:'Thu',4:'Fri',5:'Sat',6:'Sun'}"
      ],
      "execution_count": 19,
      "outputs": []
    },
    {
      "cell_type": "code",
      "metadata": {
        "colab": {
          "base_uri": "https://localhost:8080/"
        },
        "id": "_fK3CfGPHl8c",
        "outputId": "fb28d187-6400-43b9-c140-7a081572d6fa"
      },
      "source": [
        "on_demand_cycling['Day of Week'] = on_demand_cycling['Day of Week'].map(dmap)"
      ],
      "execution_count": 21,
      "outputs": [
        {
          "output_type": "stream",
          "text": [
            "/usr/local/lib/python3.6/dist-packages/ipykernel_launcher.py:1: SettingWithCopyWarning: \n",
            "A value is trying to be set on a copy of a slice from a DataFrame.\n",
            "Try using .loc[row_indexer,col_indexer] = value instead\n",
            "\n",
            "See the caveats in the documentation: https://pandas.pydata.org/pandas-docs/stable/user_guide/indexing.html#returning-a-view-versus-a-copy\n",
            "  \"\"\"Entry point for launching an IPython kernel.\n"
          ],
          "name": "stderr"
        }
      ]
    },
    {
      "cell_type": "code",
      "metadata": {
        "colab": {
          "base_uri": "https://localhost:8080/",
          "height": 313
        },
        "id": "tSUCMVqCe5Gk",
        "outputId": "bf08827a-c613-422c-d2e5-a5c6123a4b57"
      },
      "source": [
        "on_demand_cycling.head()"
      ],
      "execution_count": 23,
      "outputs": [
        {
          "output_type": "execute_result",
          "data": {
            "text/html": [
              "<div>\n",
              "<style scoped>\n",
              "    .dataframe tbody tr th:only-of-type {\n",
              "        vertical-align: middle;\n",
              "    }\n",
              "\n",
              "    .dataframe tbody tr th {\n",
              "        vertical-align: top;\n",
              "    }\n",
              "\n",
              "    .dataframe thead th {\n",
              "        text-align: right;\n",
              "    }\n",
              "</style>\n",
              "<table border=\"1\" class=\"dataframe\">\n",
              "  <thead>\n",
              "    <tr style=\"text-align: right;\">\n",
              "      <th></th>\n",
              "      <th>Workout Timestamp</th>\n",
              "      <th>Live/On-Demand</th>\n",
              "      <th>Instructor Name</th>\n",
              "      <th>Length (minutes)</th>\n",
              "      <th>Fitness Discipline</th>\n",
              "      <th>Type</th>\n",
              "      <th>Title</th>\n",
              "      <th>Total Output</th>\n",
              "      <th>Avg. Watts</th>\n",
              "      <th>Avg. Resistance</th>\n",
              "      <th>Avg. Cadence (RPM)</th>\n",
              "      <th>Avg. Speed (mph)</th>\n",
              "      <th>Distance (mi)</th>\n",
              "      <th>Hour</th>\n",
              "      <th>Day of Week</th>\n",
              "      <th>Month</th>\n",
              "      <th>Year</th>\n",
              "    </tr>\n",
              "  </thead>\n",
              "  <tbody>\n",
              "    <tr>\n",
              "      <th>49</th>\n",
              "      <td>2020-09-16 20:20:00</td>\n",
              "      <td>On Demand</td>\n",
              "      <td>Alex Toussaint</td>\n",
              "      <td>20</td>\n",
              "      <td>Cycling</td>\n",
              "      <td>Music</td>\n",
              "      <td>20 min Hip Hop Ride</td>\n",
              "      <td>77.0</td>\n",
              "      <td>64.0</td>\n",
              "      <td>33%</td>\n",
              "      <td>77.0</td>\n",
              "      <td>13.39</td>\n",
              "      <td>4.46</td>\n",
              "      <td>20</td>\n",
              "      <td>Wed</td>\n",
              "      <td>9</td>\n",
              "      <td>2020</td>\n",
              "    </tr>\n",
              "    <tr>\n",
              "      <th>50</th>\n",
              "      <td>2020-09-17 05:37:00</td>\n",
              "      <td>On Demand</td>\n",
              "      <td>Alex Toussaint</td>\n",
              "      <td>30</td>\n",
              "      <td>Cycling</td>\n",
              "      <td>Music</td>\n",
              "      <td>30 min Hip Hop Ride</td>\n",
              "      <td>100.0</td>\n",
              "      <td>56.0</td>\n",
              "      <td>32%</td>\n",
              "      <td>75.0</td>\n",
              "      <td>12.45</td>\n",
              "      <td>6.23</td>\n",
              "      <td>5</td>\n",
              "      <td>Thu</td>\n",
              "      <td>9</td>\n",
              "      <td>2020</td>\n",
              "    </tr>\n",
              "    <tr>\n",
              "      <th>51</th>\n",
              "      <td>2020-09-18 05:21:00</td>\n",
              "      <td>On Demand</td>\n",
              "      <td>Alex Toussaint</td>\n",
              "      <td>30</td>\n",
              "      <td>Cycling</td>\n",
              "      <td>Theme</td>\n",
              "      <td>30 min Club Bangers Ride</td>\n",
              "      <td>130.0</td>\n",
              "      <td>73.0</td>\n",
              "      <td>37%</td>\n",
              "      <td>71.0</td>\n",
              "      <td>13.88</td>\n",
              "      <td>6.94</td>\n",
              "      <td>5</td>\n",
              "      <td>Fri</td>\n",
              "      <td>9</td>\n",
              "      <td>2020</td>\n",
              "    </tr>\n",
              "    <tr>\n",
              "      <th>53</th>\n",
              "      <td>2020-09-24 13:09:00</td>\n",
              "      <td>On Demand</td>\n",
              "      <td>Alex Toussaint</td>\n",
              "      <td>20</td>\n",
              "      <td>Cycling</td>\n",
              "      <td>Low Impact</td>\n",
              "      <td>20 min Low Impact Ride</td>\n",
              "      <td>81.0</td>\n",
              "      <td>67.0</td>\n",
              "      <td>31%</td>\n",
              "      <td>85.0</td>\n",
              "      <td>13.61</td>\n",
              "      <td>4.54</td>\n",
              "      <td>13</td>\n",
              "      <td>Thu</td>\n",
              "      <td>9</td>\n",
              "      <td>2020</td>\n",
              "    </tr>\n",
              "    <tr>\n",
              "      <th>54</th>\n",
              "      <td>2020-09-26 12:55:00</td>\n",
              "      <td>On Demand</td>\n",
              "      <td>Tunde Oyeneyin</td>\n",
              "      <td>20</td>\n",
              "      <td>Cycling</td>\n",
              "      <td>Music</td>\n",
              "      <td>20 min Hip Hop Ride</td>\n",
              "      <td>89.0</td>\n",
              "      <td>74.0</td>\n",
              "      <td>34%</td>\n",
              "      <td>82.0</td>\n",
              "      <td>14.11</td>\n",
              "      <td>4.70</td>\n",
              "      <td>12</td>\n",
              "      <td>Sat</td>\n",
              "      <td>9</td>\n",
              "      <td>2020</td>\n",
              "    </tr>\n",
              "  </tbody>\n",
              "</table>\n",
              "</div>"
            ],
            "text/plain": [
              "     Workout Timestamp Live/On-Demand Instructor Name  ...  Day of Week Month  Year\n",
              "49 2020-09-16 20:20:00      On Demand  Alex Toussaint  ...          Wed     9  2020\n",
              "50 2020-09-17 05:37:00      On Demand  Alex Toussaint  ...          Thu     9  2020\n",
              "51 2020-09-18 05:21:00      On Demand  Alex Toussaint  ...          Fri     9  2020\n",
              "53 2020-09-24 13:09:00      On Demand  Alex Toussaint  ...          Thu     9  2020\n",
              "54 2020-09-26 12:55:00      On Demand  Tunde Oyeneyin  ...          Sat     9  2020\n",
              "\n",
              "[5 rows x 17 columns]"
            ]
          },
          "metadata": {
            "tags": []
          },
          "execution_count": 23
        }
      ]
    },
    {
      "cell_type": "code",
      "metadata": {
        "colab": {
          "base_uri": "https://localhost:8080/",
          "height": 386
        },
        "id": "oem94wALTnm0",
        "outputId": "c6334cdf-1dc6-4f2c-fb22-b006a30b4c69"
      },
      "source": [
        "plt.figure(figsize = (12, 5))\r\n",
        "sns.barplot(x=on_demand_cycling['Day of Week'], y=on_demand_cycling['Avg. Watts'], data=on_demand_cycling, ci=False, color=\"green\").set_title('Average Watts by Day of Week')\r\n",
        "sns.despine()\r\n",
        "plt.xticks(rotation=90)"
      ],
      "execution_count": 35,
      "outputs": [
        {
          "output_type": "execute_result",
          "data": {
            "text/plain": [
              "(array([0, 1, 2, 3, 4, 5, 6]), <a list of 7 Text major ticklabel objects>)"
            ]
          },
          "metadata": {
            "tags": []
          },
          "execution_count": 35
        },
        {
          "output_type": "display_data",
          "data": {
            "image/png": "[encoded data removed]",
            "text/plain": [
              "<Figure size 864x360 with 1 Axes>"
            ]
          },
          "metadata": {
            "tags": []
          }
        }
      ]
    },
    {
      "cell_type": "markdown",
      "metadata": {
        "id": "TyQEvXlwnDpt"
      },
      "source": [
        "It doesn't appear the day of the week has any signficant impact on my average watts, though my performance is slightly better during weekends."
      ]
    },
    {
      "cell_type": "code",
      "metadata": {
        "colab": {
          "base_uri": "https://localhost:8080/"
        },
        "id": "-yEj5WjFd8Gy",
        "outputId": "cc434c34-fe37-42b0-aa86-a129e29795ab"
      },
      "source": [
        "on_demand_cycling['Day of Week'].value_counts()"
      ],
      "execution_count": 26,
      "outputs": [
        {
          "output_type": "execute_result",
          "data": {
            "text/plain": [
              "Sun    12\n",
              "Mon     8\n",
              "Tue     7\n",
              "Sat     6\n",
              "Thu     5\n",
              "Wed     5\n",
              "Fri     4\n",
              "Name: Day of Week, dtype: int64"
            ]
          },
          "metadata": {
            "tags": []
          },
          "execution_count": 26
        }
      ]
    },
    {
      "cell_type": "code",
      "metadata": {
        "colab": {
          "base_uri": "https://localhost:8080/"
        },
        "id": "BdYVTB_SWtcU",
        "outputId": "45c869e8-0365-4e55-8665-09186704d897"
      },
      "source": [
        "on_demand_cycling['Hour'].value_counts()"
      ],
      "execution_count": 28,
      "outputs": [
        {
          "output_type": "execute_result",
          "data": {
            "text/plain": [
              "20    10\n",
              "13    10\n",
              "5      7\n",
              "19     5\n",
              "14     4\n",
              "18     3\n",
              "21     2\n",
              "15     2\n",
              "12     1\n",
              "9      1\n",
              "7      1\n",
              "6      1\n",
              "Name: Hour, dtype: int64"
            ]
          },
          "metadata": {
            "tags": []
          },
          "execution_count": 28
        }
      ]
    },
    {
      "cell_type": "code",
      "metadata": {
        "colab": {
          "base_uri": "https://localhost:8080/",
          "height": 393
        },
        "id": "LZSpbuZNU3r4",
        "outputId": "cbcdd3b8-e039-4dcf-90a8-82397c21fc79"
      },
      "source": [
        "plt.figure(figsize = (12, 5))\r\n",
        "sns.barplot(x=on_demand_cycling['Hour'], y=on_demand_cycling['Avg. Watts'], data=on_demand_cycling, ci=False, color=\"green\").set_title('Average Watts by Hour')\r\n",
        "sns.despine()\r\n",
        "plt.xticks(rotation=90)"
      ],
      "execution_count": 29,
      "outputs": [
        {
          "output_type": "execute_result",
          "data": {
            "text/plain": [
              "(array([ 0,  1,  2,  3,  4,  5,  6,  7,  8,  9, 10, 11]),\n",
              " <a list of 12 Text major ticklabel objects>)"
            ]
          },
          "metadata": {
            "tags": []
          },
          "execution_count": 29
        },
        {
          "output_type": "display_data",
          "data": {
            "image/png": "[encoded data removed]",
            "text/plain": [
              "<Figure size 864x360 with 1 Axes>"
            ]
          },
          "metadata": {
            "tags": []
          }
        }
      ]
    },
    {
      "cell_type": "markdown",
      "metadata": {
        "id": "N2CyVPhdnbCX"
      },
      "source": [
        "It doesn't appear the time of day has any signficant impact on my average watts, though my performance is slightly better at 7am."
      ]
    },
    {
      "cell_type": "code",
      "metadata": {
        "colab": {
          "base_uri": "https://localhost:8080/",
          "height": 376
        },
        "id": "H1XnFm2RiKFx",
        "outputId": "130d5d49-1e1d-46e4-f054-f181131ba61c"
      },
      "source": [
        "plt.figure(figsize = (12, 5))\r\n",
        "sns.barplot(x=on_demand_cycling['Length (minutes)'], y=on_demand_cycling['Avg. Watts'], data=on_demand_cycling, ci=False, color=\"green\").set_title('Average Watts by Class Length')\r\n",
        "sns.despine()\r\n",
        "plt.xticks(rotation=90)"
      ],
      "execution_count": 37,
      "outputs": [
        {
          "output_type": "execute_result",
          "data": {
            "text/plain": [
              "(array([0, 1, 2, 3, 4]), <a list of 5 Text major ticklabel objects>)"
            ]
          },
          "metadata": {
            "tags": []
          },
          "execution_count": 37
        },
        {
          "output_type": "display_data",
          "data": {
            "image/png": "[encoded data removed]",
            "text/plain": [
              "<Figure size 864x360 with 1 Axes>"
            ]
          },
          "metadata": {
            "tags": []
          }
        }
      ]
    },
    {
      "cell_type": "markdown",
      "metadata": {
        "id": "8ncQtvYMnmTZ"
      },
      "source": [
        "It doesn't appear the class length of day has any signficant impact on my average watts, though my performance is slightly better during 15 and 45 minute rides."
      ]
    },
    {
      "cell_type": "code",
      "metadata": {
        "colab": {
          "base_uri": "https://localhost:8080/",
          "height": 478
        },
        "id": "x-YJYnTHUrxy",
        "outputId": "a6d99de5-7970-44cf-d2f7-e80dbe10cfc5"
      },
      "source": [
        "plt.figure(figsize = (12, 5))\r\n",
        "sns.barplot(x=on_demand_cycling['Instructor Name'], y=on_demand_cycling['Avg. Watts'], data=on_demand_cycling, ci=False, color=\"green\").set_title('Average Watts by Day of Week')\r\n",
        "sns.despine()\r\n",
        "plt.xticks(rotation=90)"
      ],
      "execution_count": 27,
      "outputs": [
        {
          "output_type": "execute_result",
          "data": {
            "text/plain": [
              "(array([ 0,  1,  2,  3,  4,  5,  6,  7,  8,  9, 10, 11, 12]),\n",
              " <a list of 13 Text major ticklabel objects>)"
            ]
          },
          "metadata": {
            "tags": []
          },
          "execution_count": 27
        },
        {
          "output_type": "display_data",
          "data": {
            "image/png": "[encoded data removed]",
            "text/plain": [
              "<Figure size 864x360 with 1 Axes>"
            ]
          },
          "metadata": {
            "tags": []
          }
        }
      ]
    },
    {
      "cell_type": "markdown",
      "metadata": {
        "id": "W5JO01VHnuUe"
      },
      "source": [
        "My average watts are highest when I ride with Hannah Corbin!"
      ]
    }
  ]
}